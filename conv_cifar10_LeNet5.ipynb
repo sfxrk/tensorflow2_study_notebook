{
 "cells": [
  {
   "cell_type": "code",
   "execution_count": 1,
   "metadata": {},
   "outputs": [],
   "source": [
    "# conv net for cifar10 LeNet 5 by hand from zero\n",
    "# course: https://www.icourse163.org/course/PKU-1002536002\n",
    "#人工智能实践：Tensorflow笔记 北京大学 曹健"
   ]
  },
  {
   "cell_type": "code",
   "execution_count": 12,
   "metadata": {},
   "outputs": [
    {
     "name": "stdout",
     "output_type": "stream",
     "text": [
      "2.1.0\n"
     ]
    }
   ],
   "source": [
    "import tensorflow as tf\n",
    "import numpy as np\n",
    "import os\n",
    "import matplotlib.pyplot as plt\n",
    "from tensorflow import keras\n",
    "import tensorflow.keras.models\n",
    "from tensorflow.keras import models,layers\n",
    "from tensorflow.keras.models import Model\n",
    "from tensorflow.keras.layers import Conv2D, BatchNormalization, Activation, MaxPool2D, Dense, Flatten\n",
    "import time\n",
    "np.set_printoptions(threshold=np.inf)\n",
    "print(tf.__version__)"
   ]
  },
  {
   "cell_type": "code",
   "execution_count": 13,
   "metadata": {
    "scrolled": true
   },
   "outputs": [
    {
     "data": {
      "text/plain": [
       "((50000, 32, 32, 3), (50000, 1), (10000, 32, 32, 3))"
      ]
     },
     "execution_count": 13,
     "metadata": {},
     "output_type": "execute_result"
    }
   ],
   "source": [
    "#https://www.cs.toronto.edu/~kriz/cifar-10-python.tar.gz\n",
    "#\"C:\\Users\\think\\.keras\\datasets\\cifar-10-batches-py.tar.gz\"\n",
    "(x_train, y_train), (x_test, y_test)=keras.datasets.cifar10.load_data()\n",
    "x_train.shape,y_train.shape,x_test.shape"
   ]
  },
  {
   "cell_type": "code",
   "execution_count": 4,
   "metadata": {},
   "outputs": [
    {
     "data": {
      "text/plain": [
       "(numpy.ndarray, numpy.ndarray)"
      ]
     },
     "execution_count": 4,
     "metadata": {},
     "output_type": "execute_result"
    }
   ],
   "source": [
    "type(x_train),type(y_train)"
   ]
  },
  {
   "cell_type": "code",
   "execution_count": 5,
   "metadata": {},
   "outputs": [
    {
     "data": {
      "text/plain": [
       "(dtype('uint8'), dtype('uint8'))"
      ]
     },
     "execution_count": 5,
     "metadata": {},
     "output_type": "execute_result"
    }
   ],
   "source": [
    "x_train.dtype,y_train.dtype"
   ]
  },
  {
   "cell_type": "code",
   "execution_count": 6,
   "metadata": {},
   "outputs": [],
   "source": [
    "class LeNet5(Model):\n",
    "    def __init__(self):\n",
    "        super(LeNet5,self).__init__()\n",
    "        self.c1=Conv2D(filters=6,kernel_size=(5,5),padding=\"valid\")\n",
    "#         self.b1=BatchNormalization()\n",
    "        self.a1=keras.activations.sigmoid\n",
    "        self.p1=layers.MaxPool2D(pool_size=(2,2),strides=2,padding=\"valid\")\n",
    "#         self.d1=layers.Dropout(0.2)\n",
    "\n",
    "        self.c2=Conv2D(filters=16,kernel_size=(5,5),padding=\"valid\")\n",
    "#         self.b1=BatchNormalization()\n",
    "        self.a2=keras.activations.sigmoid\n",
    "        self.p2=layers.MaxPool2D(pool_size=(2,2),strides=2,padding=\"valid\")\n",
    "#         self.d1=layers.Dropout(0.2)\n",
    "\n",
    "\n",
    "        self.f1=Flatten()\n",
    "        self.dense1=Dense(120,activation=keras.activations.sigmoid)\n",
    "        self.dense2=Dense(84,activation=keras.activations.sigmoid)\n",
    "        self.dense3=Dense(10,activation=keras.activations.softmax)\n",
    "    def call(self,x):\n",
    "        x=self.c1(x)\n",
    "#         x=self.b1(x)\n",
    "        x=self.a1(x)\n",
    "        x=self.p1(x)\n",
    "#         x=self.d1(x)\n",
    "\n",
    "        x=self.c2(x)\n",
    "#         x=self.b1(x)\n",
    "        x=self.a2(x)\n",
    "        x=self.p2(x)\n",
    "#         x=self.d1(x)\n",
    "\n",
    "        x=self.f1(x)\n",
    "        x=self.dense1(x)\n",
    "        x=self.dense2(x)\n",
    "        x=self.dense3(x)\n",
    "        return x  "
   ]
  },
  {
   "cell_type": "code",
   "execution_count": 7,
   "metadata": {},
   "outputs": [
    {
     "name": "stdout",
     "output_type": "stream",
     "text": [
      "Model: \"le_net5\"\n",
      "_________________________________________________________________\n",
      "Layer (type)                 Output Shape              Param #   \n",
      "=================================================================\n",
      "conv2d (Conv2D)              multiple                  456       \n",
      "_________________________________________________________________\n",
      "max_pooling2d (MaxPooling2D) multiple                  0         \n",
      "_________________________________________________________________\n",
      "conv2d_1 (Conv2D)            multiple                  2416      \n",
      "_________________________________________________________________\n",
      "max_pooling2d_1 (MaxPooling2 multiple                  0         \n",
      "_________________________________________________________________\n",
      "flatten (Flatten)            multiple                  0         \n",
      "_________________________________________________________________\n",
      "dense (Dense)                multiple                  48120     \n",
      "_________________________________________________________________\n",
      "dense_1 (Dense)              multiple                  10164     \n",
      "_________________________________________________________________\n",
      "dense_2 (Dense)              multiple                  850       \n",
      "=================================================================\n",
      "Total params: 62,006\n",
      "Trainable params: 62,006\n",
      "Non-trainable params: 0\n",
      "_________________________________________________________________\n"
     ]
    }
   ],
   "source": [
    "x_train =x_train / 255.\n",
    "x_test =x_test / 255.\n",
    "model = LeNet5()\n",
    "model.build(input_shape=(None,32,32,3))\n",
    "model.summary()"
   ]
  },
  {
   "cell_type": "code",
   "execution_count": 9,
   "metadata": {},
   "outputs": [],
   "source": [
    "model.compile(optimizer=keras.optimizers.Adam(learning_rate=0.001),\n",
    "             loss=keras.losses.SparseCategoricalCrossentropy(from_logits=False),\n",
    "             metrics=[\"sparse_categorical_accuracy\"])\n",
    "checkpoint_filepath=\"./checkpoint/lenet5.ckpt\"\n",
    "if os.path.exists(checkpoint_filepath+\".index\"):\n",
    "    print(\"======load wights========\")\n",
    "    model.load_weights(checkpoint_filepath)\n",
    "checkpoint_callback=keras.callbacks.ModelCheckpoint(filepath=checkpoint_filepath,\n",
    "                                                   save_best_only=True,\n",
    "                                                   save_weights_only=True)\n"
   ]
  },
  {
   "cell_type": "code",
   "execution_count": 10,
   "metadata": {
    "scrolled": true
   },
   "outputs": [
    {
     "name": "stdout",
     "output_type": "stream",
     "text": [
      "Train on 50000 samples, validate on 10000 samples\n",
      "Epoch 1/5\n",
      "50000/50000 [==============================] - 23s 461us/sample - loss: 2.0589 - sparse_categorical_accuracy: 0.2272 - val_loss: 1.9299 - val_sparse_categorical_accuracy: 0.2879\n",
      "Epoch 2/5\n",
      "50000/50000 [==============================] - 24s 478us/sample - loss: 1.8555 - sparse_categorical_accuracy: 0.3156 - val_loss: 1.7701 - val_sparse_categorical_accuracy: 0.3655\n",
      "Epoch 3/5\n",
      "50000/50000 [==============================] - 23s 464us/sample - loss: 1.6879 - sparse_categorical_accuracy: 0.3867 - val_loss: 1.6370 - val_sparse_categorical_accuracy: 0.4065\n",
      "Epoch 4/5\n",
      "50000/50000 [==============================] - 24s 473us/sample - loss: 1.5797 - sparse_categorical_accuracy: 0.4236 - val_loss: 1.5203 - val_sparse_categorical_accuracy: 0.4433\n",
      "Epoch 5/5\n",
      "50000/50000 [==============================] - 24s 472us/sample - loss: 1.4985 - sparse_categorical_accuracy: 0.4550 - val_loss: 1.4629 - val_sparse_categorical_accuracy: 0.4648\n"
     ]
    }
   ],
   "source": [
    "history=model.fit(x=x_train,y=y_train,\n",
    "                  batch_size=32,epochs=5,\n",
    "                  callbacks=[checkpoint_callback],\n",
    "                  validation_data=(x_test,y_test))\n"
   ]
  },
  {
   "cell_type": "code",
   "execution_count": 14,
   "metadata": {},
   "outputs": [],
   "source": [
    "with open(\"./weights.txt\",\"w\") as f:\n",
    "    for w in model.trainable_variables:\n",
    "        f.write(str(w.name)+\"\\n\")\n",
    "        f.write(str(w.shape)+\"\\n\")\n",
    "        f.write(str(w.numpy())+\"\\n\\n\")"
   ]
  },
  {
   "cell_type": "code",
   "execution_count": 15,
   "metadata": {
    "scrolled": true
   },
   "outputs": [
    {
     "data": {
      "image/png": "[encoded data removed]",
      "text/plain": [
       "<Figure size 864x432 with 2 Axes>"
      ]
     },
     "metadata": {
      "needs_background": "light"
     },
     "output_type": "display_data"
    }
   ],
   "source": [
    "acc=history.history[\"sparse_categorical_accuracy\"]\n",
    "val_acc=history.history[\"val_sparse_categorical_accuracy\"]\n",
    "loss=history.history[\"loss\"]\n",
    "val_loss=history.history[\"val_loss\"]\n",
    "plt.figure(figsize=(12,6))\n",
    "plt.subplot(1,2,1)\n",
    "plt.plot(acc,label=\"acc\")\n",
    "plt.plot(val_acc,label=\"val_acc\")\n",
    "plt.legend(loc=\"best\")\n",
    "plt.subplot(1,2,2)\n",
    "plt.plot(loss,label=\"loss\")\n",
    "plt.plot(val_loss,label=\"val_loss\")\n",
    "plt.legend(loc=\"best\")\n",
    "plt.show()"
   ]
  },
  {
   "cell_type": "code",
   "execution_count": 24,
   "metadata": {},
   "outputs": [
    {
     "data": {
      "text/plain": [
       "time.struct_time(tm_year=2020, tm_mon=4, tm_mday=14, tm_hour=12, tm_min=27, tm_sec=13, tm_wday=1, tm_yday=105, tm_isdst=0)"
      ]
     },
     "execution_count": 24,
     "metadata": {},
     "output_type": "execute_result"
    }
   ],
   "source": [
    "import time\n",
    "time.localtime(time.time())"
   ]
  },
  {
   "cell_type": "code",
   "execution_count": 23,
   "metadata": {},
   "outputs": [
    {
     "name": "stdout",
     "output_type": "stream",
     "text": [
      "0.0\n"
     ]
    }
   ],
   "source": [
    "t1=time.time()\n",
    "t2=time.time()\n",
    "dt=t2-t1\n",
    "print(dt)"
   ]
  }
 ],
 "metadata": {
  "kernelspec": {
   "display_name": "python37_64_tf2.0",
   "language": "python",
   "name": "python3"
  },
  "language_info": {
   "codemirror_mode": {
    "name": "ipython",
    "version": 3
   },
   "file_extension": ".py",
   "mimetype": "text/x-python",
   "name": "python",
   "nbconvert_exporter": "python",
   "pygments_lexer": "ipython3",
   "version": "3.7.2"
  }
 },
 "nbformat": 4,
 "nbformat_minor": 2
}
