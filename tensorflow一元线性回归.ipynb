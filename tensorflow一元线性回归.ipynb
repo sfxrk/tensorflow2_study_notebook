{
 "cells": [
  {
   "cell_type": "code",
   "execution_count": 1,
   "metadata": {},
   "outputs": [
    {
     "name": "stdout",
     "output_type": "stream",
     "text": [
      "tf.__version__ 2.1.0\n"
     ]
    }
   ],
   "source": [
    "import numpy as np\n",
    "import matplotlib.pyplot as plt\n",
    "import tensorflow as tf\n",
    "print(\"tf.__version__\",tf.__version__)"
   ]
  },
  {
   "cell_type": "code",
   "execution_count": 2,
   "metadata": {},
   "outputs": [],
   "source": [
    "x=[137.97, 104.50, 100.00, 124.32, 79.20, 99.00, 124.00, 114.00,106.69,138.05,53.75,46.91,68.00, 63.02,81.26,86.21]\n",
    "y=[145.00,110.00,93.00,116.00,65.32,104.00, 118.00,91.00,62.00, 133.00, 51.00, 45.00,78.50,69.65, 75.69,95.30]\n",
    "x_test=[128.15, 45.00, 141.43, 106.27, 99.00, 53.84, 85.36, 70.00]"
   ]
  },
  {
   "cell_type": "code",
   "execution_count": 3,
   "metadata": {},
   "outputs": [],
   "source": [
    "X=tf.constant(x)\n",
    "Y=tf.constant(y)\n",
    "times=10\n",
    "lr=0.0001\n",
    "display_step=1"
   ]
  },
  {
   "cell_type": "code",
   "execution_count": 4,
   "metadata": {},
   "outputs": [
    {
     "name": "stdout",
     "output_type": "stream",
     "text": [
      "0 0 w -0.013377065 b -1.1628988\n",
      "i 0 loss 4749.3623 w 0.94604725 b -1.153577\n",
      "i 1 loss 89.86186 w 0.9578425 b -1.1534119\n",
      "i 2 loss 89.1575 w 0.957987 b -1.1533593\n",
      "i 3 loss 89.15738 w 0.9579883 b -1.1533082\n",
      "i 4 loss 89.157364 w 0.95798784 b -1.153257\n",
      "i 5 loss 89.15732 w 0.95798737 b -1.1532059\n",
      "i 6 loss 89.15728 w 0.95798683 b -1.1531547\n",
      "i 7 loss 89.157265 w 0.95798635 b -1.1531036\n",
      "i 8 loss 89.15722 w 0.9579859 b -1.1530524\n",
      "i 9 loss 89.15721 w 0.9579854 b -1.1530013\n",
      "i 10 loss 89.157196 w 0.95798486 b -1.1529502\n"
     ]
    }
   ],
   "source": [
    "np.random.seed(612)\n",
    "w=tf.Variable(np.random.randn())\n",
    "b=tf.Variable(np.random.randn())\n",
    "Y_pred=w*X+b\n",
    "loss=Y-Y_pred\n",
    "print(\"0\",0,\"w\",w.numpy(),\"b\",b.numpy())\n",
    "mse=[]\n",
    "for i in range(times+1):\n",
    "    with tf.GradientTape() as tape:\n",
    "        Y_pred=w*X+b\n",
    "        loss=tf.reduce_mean((Y-Y_pred)**2)*0.5\n",
    "#         loss=tf.reduce_mean(tf.square(Y-Y_pred))*0.5\n",
    "    dl_dw,dl_db=tape.gradient(loss,[w,b])\n",
    "    w.assign_sub(lr*dl_dw)\n",
    "    b.assign_sub(lr*dl_db)\n",
    "    mse.append(loss)\n",
    "    if i % display_step == 0:\n",
    "        print(\"i\",i,\"loss\",loss.numpy(),\"w\",w.numpy(),\"b\",b.numpy())   "
   ]
  },
  {
   "cell_type": "code",
   "execution_count": 5,
   "metadata": {},
   "outputs": [
    {
     "data": {
      "image/png": "[encoded data removed]",
      "text/plain": [
       "<Figure size 432x288 with 2 Axes>"
      ]
     },
     "metadata": {
      "needs_background": "light"
     },
     "output_type": "display_data"
    }
   ],
   "source": [
    "plt.subplot(1,2,1)\n",
    "plt.plot(mse)\n",
    "plt.subplot(1,2,2)\n",
    "plt.scatter(x,y,color=\"red\")\n",
    "plt.scatter(x,Y_pred,color=\"blue\")\n",
    "plt.plot(x,Y_pred)\n",
    "plt.show()"
   ]
  }
 ],
 "metadata": {
  "kernelspec": {
   "display_name": "python37_64_tf2.0",
   "language": "python",
   "name": "python3"
  },
  "language_info": {
   "codemirror_mode": {
    "name": "ipython",
    "version": 3
   },
   "file_extension": ".py",
   "mimetype": "text/x-python",
   "name": "python",
   "nbconvert_exporter": "python",
   "pygments_lexer": "ipython3",
   "version": "3.7.2"
  }
 },
 "nbformat": 4,
 "nbformat_minor": 2
}
