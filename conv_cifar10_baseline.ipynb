{
 "cells": [
  {
   "cell_type": "code",
   "execution_count": 1,
   "metadata": {},
   "outputs": [],
   "source": [
    "# conv net for cifar10 baseline by hand \n",
    "# course: https://www.icourse163.org/course/PKU-1002536002\n",
    "#人工智能实践：Tensorflow笔记 北京大学 曹健"
   ]
  },
  {
   "cell_type": "code",
   "execution_count": 18,
   "metadata": {},
   "outputs": [
    {
     "name": "stdout",
     "output_type": "stream",
     "text": [
      "2.1.0\n"
     ]
    }
   ],
   "source": [
    "import tensorflow as tf\n",
    "import numpy as np\n",
    "import os\n",
    "import matplotlib.pyplot as plt\n",
    "from tensorflow import keras\n",
    "import tensorflow.keras.models\n",
    "from tensorflow.keras import models,layers\n",
    "from tensorflow.keras.models import Model\n",
    "from tensorflow.keras.layers import Conv2D, BatchNormalization, Activation, MaxPool2D, Dense, Flatten\n",
    "np.set_printoptions(threshold=np.inf)\n",
    "print(tf.__version__)"
   ]
  },
  {
   "cell_type": "code",
   "execution_count": 19,
   "metadata": {
    "scrolled": true
   },
   "outputs": [
    {
     "data": {
      "text/plain": [
       "((50000, 32, 32, 3), (50000, 1), (10000, 32, 32, 3))"
      ]
     },
     "execution_count": 19,
     "metadata": {},
     "output_type": "execute_result"
    }
   ],
   "source": [
    "#https://www.cs.toronto.edu/~kriz/cifar-10-python.tar.gz\n",
    "#\"C:\\Users\\think\\.keras\\datasets\\cifar-10-batches-py.tar.gz\"\n",
    "(x_train, y_train), (x_test, y_test)=keras.datasets.cifar10.load_data()\n",
    "x_train.shape,y_train.shape,x_test.shape"
   ]
  },
  {
   "cell_type": "code",
   "execution_count": 20,
   "metadata": {},
   "outputs": [
    {
     "data": {
      "text/plain": [
       "(numpy.ndarray, numpy.ndarray)"
      ]
     },
     "execution_count": 20,
     "metadata": {},
     "output_type": "execute_result"
    }
   ],
   "source": [
    "type(x_train),type(y_train)"
   ]
  },
  {
   "cell_type": "code",
   "execution_count": 21,
   "metadata": {},
   "outputs": [
    {
     "data": {
      "text/plain": [
       "(dtype('uint8'), dtype('uint8'))"
      ]
     },
     "execution_count": 21,
     "metadata": {},
     "output_type": "execute_result"
    }
   ],
   "source": [
    "x_train.dtype,y_train.dtype"
   ]
  },
  {
   "cell_type": "code",
   "execution_count": 22,
   "metadata": {},
   "outputs": [],
   "source": [
    "class cifar10_baseline(Model):\n",
    "    def __init__(self):\n",
    "        super(cifar10_baseline,self).__init__()\n",
    "        self.c1=Conv2D(filters=6,kernel_size=(5,5),padding=\"same\")\n",
    "        self.b1=BatchNormalization()\n",
    "        self.a1=keras.activations.relu\n",
    "        self.p1=layers.MaxPool2D(pool_size=(2,2),strides=2,padding=\"same\")\n",
    "        self.d1=layers.Dropout(0.2)\n",
    "        self.f1=Flatten()\n",
    "        self.dense1=Dense(128,activation=keras.activations.relu)\n",
    "        self.d2=layers.Dropout(0.2)\n",
    "        self.dense2=Dense(10,activation=keras.activations.softmax)\n",
    "    def call(self,x):\n",
    "        x=self.c1(x)\n",
    "        x=self.b1(x)\n",
    "        x=self.a1(x)\n",
    "        x=self.p1(x)\n",
    "        x=self.d1(x)\n",
    "        x=self.f1(x)\n",
    "        x=self.dense1(x)\n",
    "        x=self.d2(x)\n",
    "        x=self.dense2(x)\n",
    "        return x  "
   ]
  },
  {
   "cell_type": "code",
   "execution_count": 23,
   "metadata": {},
   "outputs": [
    {
     "name": "stdout",
     "output_type": "stream",
     "text": [
      "Model: \"cifar10_baseline_1\"\n",
      "_________________________________________________________________\n",
      "Layer (type)                 Output Shape              Param #   \n",
      "=================================================================\n",
      "conv2d_1 (Conv2D)            multiple                  456       \n",
      "_________________________________________________________________\n",
      "batch_normalization_1 (Batch multiple                  24        \n",
      "_________________________________________________________________\n",
      "max_pooling2d_1 (MaxPooling2 multiple                  0         \n",
      "_________________________________________________________________\n",
      "dropout_2 (Dropout)          multiple                  0         \n",
      "_________________________________________________________________\n",
      "flatten_1 (Flatten)          multiple                  0         \n",
      "_________________________________________________________________\n",
      "dense_2 (Dense)              multiple                  196736    \n",
      "_________________________________________________________________\n",
      "dropout_3 (Dropout)          multiple                  0         \n",
      "_________________________________________________________________\n",
      "dense_3 (Dense)              multiple                  1290      \n",
      "=================================================================\n",
      "Total params: 198,506\n",
      "Trainable params: 198,494\n",
      "Non-trainable params: 12\n",
      "_________________________________________________________________\n"
     ]
    }
   ],
   "source": [
    "x_train =x_train / 255.\n",
    "x_test =x_test / 255.\n",
    "model = cifar10_baseline()\n",
    "model.build(input_shape=(None,32,32,3))\n",
    "model.summary()"
   ]
  },
  {
   "cell_type": "code",
   "execution_count": 25,
   "metadata": {},
   "outputs": [
    {
     "name": "stdout",
     "output_type": "stream",
     "text": [
      "======load wights========\n"
     ]
    }
   ],
   "source": [
    "model.compile(optimizer=keras.optimizers.Adam(learning_rate=0.001),\n",
    "             loss=keras.losses.SparseCategoricalCrossentropy(from_logits=False),\n",
    "             metrics=[\"sparse_categorical_accuracy\"])\n",
    "checkpoint_filepath=\"./checkpoint/baseline.ckpt\"\n",
    "if os.path.exists(checkpoint_filepath+\".index\"):\n",
    "    print(\"======load wights========\")\n",
    "    model.load_weights(checkpoint_filepath)\n",
    "checkpoint_callback=keras.callbacks.ModelCheckpoint(filepath=checkpoint_filepath,\n",
    "                                                   save_best_only=True,\n",
    "                                                   save_weights_only=True)\n"
   ]
  },
  {
   "cell_type": "code",
   "execution_count": 13,
   "metadata": {
    "scrolled": true
   },
   "outputs": [
    {
     "name": "stdout",
     "output_type": "stream",
     "text": [
      "Train on 50000 samples, validate on 10000 samples\n",
      "Epoch 1/5\n",
      "50000/50000 [==============================] - 40s 798us/sample - loss: 1.1250 - sparse_categorical_accuracy: 0.6007 - val_loss: 1.3111 - val_sparse_categorical_accuracy: 0.5361\n",
      "Epoch 2/5\n",
      "50000/50000 [==============================] - 40s 802us/sample - loss: 1.1109 - sparse_categorical_accuracy: 0.6040 - val_loss: 1.2257 - val_sparse_categorical_accuracy: 0.5786\n",
      "Epoch 3/5\n",
      "50000/50000 [==============================] - 39s 779us/sample - loss: 1.0913 - sparse_categorical_accuracy: 0.6106 - val_loss: 1.2469 - val_sparse_categorical_accuracy: 0.5710\n",
      "Epoch 4/5\n",
      "50000/50000 [==============================] - 39s 786us/sample - loss: 1.0800 - sparse_categorical_accuracy: 0.6149 - val_loss: 1.1470 - val_sparse_categorical_accuracy: 0.5972\n",
      "Epoch 5/5\n",
      "50000/50000 [==============================] - 40s 798us/sample - loss: 1.0595 - sparse_categorical_accuracy: 0.6238 - val_loss: 1.0963 - val_sparse_categorical_accuracy: 0.6140\n"
     ]
    }
   ],
   "source": [
    "history=model.fit(x=x_train,y=y_train,\n",
    "                  batch_size=32,epochs=5,\n",
    "                  callbacks=[checkpoint_callback],\n",
    "                  validation_data=(x_test,y_test))\n"
   ]
  },
  {
   "cell_type": "code",
   "execution_count": 15,
   "metadata": {},
   "outputs": [],
   "source": [
    "with open(\"./weights.txt\",\"w\") as f:\n",
    "    for w in model.trainable_variables:\n",
    "        f.write(str(w.name)+\"\\n\")\n",
    "        f.write(str(w.shape)+\"\\n\")\n",
    "        f.write(str(w.numpy())+\"\\n\\n\")"
   ]
  },
  {
   "cell_type": "code",
   "execution_count": 16,
   "metadata": {
    "scrolled": true
   },
   "outputs": [
    {
     "data": {
      "image/png": "[encoded data removed]",
      "text/plain": [
       "<Figure size 864x432 with 2 Axes>"
      ]
     },
     "metadata": {
      "needs_background": "light"
     },
     "output_type": "display_data"
    }
   ],
   "source": [
    "acc=history.history[\"sparse_categorical_accuracy\"]\n",
    "val_acc=history.history[\"val_sparse_categorical_accuracy\"]\n",
    "loss=history.history[\"loss\"]\n",
    "val_loss=history.history[\"val_loss\"]\n",
    "plt.figure(figsize=(12,6))\n",
    "plt.subplot(1,2,1)\n",
    "plt.plot(acc,label=\"acc\")\n",
    "plt.plot(val_acc,label=\"val_acc\")\n",
    "plt.legend(loc=\"best\")\n",
    "plt.subplot(1,2,2)\n",
    "plt.plot(loss,label=\"loss\")\n",
    "plt.plot(val_loss,label=\"val_loss\")\n",
    "plt.legend(loc=\"best\")\n",
    "plt.show()"
   ]
  },
  {
   "cell_type": "code",
   "execution_count": null,
   "metadata": {},
   "outputs": [],
   "source": []
  }
 ],
 "metadata": {
  "kernelspec": {
   "display_name": "python37_64_tf2.0",
   "language": "python",
   "name": "python3"
  },
  "language_info": {
   "codemirror_mode": {
    "name": "ipython",
    "version": 3
   },
   "file_extension": ".py",
   "mimetype": "text/x-python",
   "name": "python",
   "nbconvert_exporter": "python",
   "pygments_lexer": "ipython3",
   "version": "3.7.2"
  }
 },
 "nbformat": 4,
 "nbformat_minor": 2
}
